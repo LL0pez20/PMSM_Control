{
 "cells": [
  {
   "cell_type": "code",
   "execution_count": 1,
   "id": "2cb3e8d9",
   "metadata": {},
   "outputs": [],
   "source": [
    "import numpy as np\n",
    "import pandas as pd\n",
    "import matplotlib.pyplot as plt\n",
    "import math\n",
    "import cmath\n",
    "plt.style.use('seaborn-v0_8-paper')"
   ]
  },
  {
   "cell_type": "code",
   "execution_count": 2,
   "id": "44426ec9",
   "metadata": {},
   "outputs": [
    {
     "name": "stdout",
     "output_type": "stream",
     "text": [
      "             Time        Data_1        Data_2        Data_3      Data_4  \\\n",
      "0           0 sec  0.000000e+00  0.000000e+00  0.000000e+00    0.000000   \n",
      "1       1e-05 sec -8.062316e-20 -3.209883e-35 -2.823443e-19   -0.046356   \n",
      "2       2e-05 sec -1.809906e-12  6.223484e-06 -4.235165e-19   -0.092712   \n",
      "3       3e-05 sec -1.266097e-11  1.866093e-05 -4.235165e-19   -0.139067   \n",
      "4       4e-05 sec -4.518647e-11  3.730283e-05 -4.223871e-19   -0.185423   \n",
      "...           ...           ...           ...           ...         ...   \n",
      "599996      6 sec  2.668697e-01  6.740604e+00  6.666304e-09  600.076118   \n",
      "599997      6 sec  7.105145e-02  6.972852e+00  3.002559e-09  600.082381   \n",
      "599998      6 sec -1.213717e-01  7.206377e+00  3.002549e-09  600.090416   \n",
      "599999      6 sec -9.384326e-02  7.114325e+00  2.344110e-11  600.097759   \n",
      "600000      6 sec -6.725939e-02  7.023140e+00  2.344436e-11  600.104410   \n",
      "\n",
      "              Data_5  \n",
      "0      -4.184288e-35  \n",
      "1       1.018847e-05  \n",
      "2       3.054981e-05  \n",
      "3       6.106847e-05  \n",
      "4       1.017289e-04  \n",
      "...              ...  \n",
      "599996  1.141390e+01  \n",
      "599997  1.179620e+01  \n",
      "599998  1.164686e+01  \n",
      "599999  1.149758e+01  \n",
      "600000  1.134837e+01  \n",
      "\n",
      "[600001 rows x 6 columns]\n"
     ]
    }
   ],
   "source": [
    "db = pd.read_csv('saida_motor.csv')\n",
    "\n",
    "#extracting velocity in rpm from db\n",
    "rpm = db['Data_4']\n",
    "\n",
    "#extracting Id and Iq from db\n",
    "i_d = db['Data_1']\n",
    "i_q = db['Data_2']\n",
    "\n",
    "#extracting estimated torque\n",
    "T_ref = db['Data_5']\n",
    "\n",
    "print(db)"
   ]
  },
  {
   "cell_type": "code",
   "execution_count": 3,
   "id": "d89f9dd8",
   "metadata": {},
   "outputs": [],
   "source": [
    "#estimated torque equation\n",
    "def est_torque(Ld, Lq, yf, rpm, i_d, i_q):\n",
    "\n",
    "    #creating estimated torque equation\n",
    "    T = (3/4) * 12 * i_q * (Ld * i_d + yf - Lq * i_d)\n",
    "\n",
    "    #saving db on a csv file\n",
    "    path = 'torque_est.csv'\n",
    "    df = pd.DataFrame({\n",
    "        'rpm': rpm,\n",
    "        'T_est': T,\n",
    "    })\n",
    "    \n",
    "    df.to_csv(path, index=False)\n",
    "    \n",
    "    return path"
   ]
  },
  {
   "cell_type": "code",
   "execution_count": 4,
   "id": "78184f9a",
   "metadata": {},
   "outputs": [],
   "source": [
    "#root mean square error equation\n",
    "def RMSE(rpm, T_ref, est_db):\n",
    "\n",
    "    T_est = pd.read_csv(est_db)\n",
    "\n",
    "    #T_ref = db['Data_5']\n",
    "    est = T_est['T_est']\n",
    "\n",
    "    i = (T_ref - est)**2\n",
    "\n",
    "    #n = len(db)\n",
    "    n = len(rpm)\n",
    "\n",
    "    rmse = np.sqrt((1/n) * np.sum(i))\n",
    "\n",
    "    #x = db['Data_3']\n",
    "    error = np.sqrt((T_ref - est)**2)\n",
    "    \n",
    "    return rmse"
   ]
  },
  {
   "cell_type": "code",
   "execution_count": 5,
   "id": "6122737a",
   "metadata": {
    "scrolled": false
   },
   "outputs": [
    {
     "name": "stdout",
     "output_type": "stream",
     "text": [
      "seed:25\n",
      "Status : ['Maximum number of iteration reached']\n",
      "Total Evaluations: 6001\n",
      "Solution: f([0.00674404 0.00696385 0.1731794 ]) = 0.53096\n",
      "seed:26\n",
      "Status : ['Maximum number of iteration reached']\n",
      "Total Evaluations: 6001\n",
      "Solution: f([0.00511253 0.00533582 0.17316542]) = 0.53169\n",
      "seed:27\n",
      "Status : ['Maximum number of iteration reached']\n",
      "Total Evaluations: 6001\n",
      "Solution: f([0.00436781 0.00462245 0.17318547]) = 0.53065\n",
      "seed:28\n",
      "Status : ['Maximum number of iteration reached']\n",
      "Total Evaluations: 6001\n",
      "Solution: f([0.00879698 0.0090505  0.1731428 ]) = 0.53286\n",
      "seed:29\n",
      "Status : ['Maximum number of iteration reached']\n",
      "Total Evaluations: 6001\n",
      "Solution: f([0.00401868 0.00417418 0.17317661]) = 0.53111\n",
      "seed:30\n",
      "Status : ['Maximum number of iteration reached']\n",
      "Total Evaluations: 6001\n",
      "Solution: f([0.00870225 0.00893614 0.17307394]) = 0.53645\n"
     ]
    }
   ],
   "source": [
    "#starting optimazation\n",
    "from scipy.optimize import dual_annealing\n",
    "from numpy.random import rand\n",
    "import time \n",
    "\n",
    "#defining parameters inicial values\n",
    "Ld_init = 0.0066\n",
    "Lq_init = 0.0066\n",
    "yf_init = 0.11546\n",
    "\n",
    "seconds_inicio = time.time()\n",
    "\n",
    "#setting path\n",
    "t_est_path = 'torque_est.csv'\n",
    "\n",
    "def objective(params):\n",
    "    Ld, Lq, yf = params\n",
    "    T_est_path = est_torque(Ld, Lq, yf, rpm, i_d, i_q)\n",
    "    return RMSE(rpm, T_ref, t_est_path)\n",
    "\n",
    "# define range for input\n",
    "r_min, r_max = 0.5, 1.5\n",
    "# define the bounds on the search\n",
    "bounds = [[r_min*Ld_init, r_max*Ld_init], [r_min*Lq_init, r_max*Lq_init], [r_min*yf_init, r_max*yf_init]]\n",
    "# perform the dual annealing search\n",
    "for i in range(30,60):\n",
    "    n = i+1\n",
    "    result = dual_annealing(objective, bounds, no_local_search=True, seed=n, maxiter=1000)\n",
    "    # summarize the result\n",
    "    print(f\"seed:{n}\")\n",
    "    print('Status : %s' % result['message'])\n",
    "    print('Total Evaluations: %d' % result['nfev'])\n",
    "\n",
    "    # evaluate solution\n",
    "    solution = result['x']\n",
    "    evaluation = objective(solution)\n",
    "    print('Solution: f(%s) = %.5f' % (solution, evaluation))\n",
    "    seconds_final = time.time()\n",
    "    tempo_total = (seconds_final - seconds_inicio)/3600\n",
    "    with  open(\"T_est_SA.txt\", \"a\") as file1:\n",
    "        file1.write(f\"{solution},{evaluation}\\n\")"
   ]
  }
 ],
 "metadata": {
  "kernelspec": {
   "display_name": "Python 3 (ipykernel)",
   "language": "python",
   "name": "python3"
  },
  "language_info": {
   "codemirror_mode": {
    "name": "ipython",
    "version": 3
   },
   "file_extension": ".py",
   "mimetype": "text/x-python",
   "name": "python",
   "nbconvert_exporter": "python",
   "pygments_lexer": "ipython3",
   "version": "3.11.0rc1"
  }
 },
 "nbformat": 4,
 "nbformat_minor": 5
}
