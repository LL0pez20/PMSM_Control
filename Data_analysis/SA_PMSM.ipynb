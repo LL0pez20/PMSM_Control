{
 "cells": [
  {
   "cell_type": "code",
   "execution_count": 1,
   "id": "d0e9e78c",
   "metadata": {},
   "outputs": [],
   "source": [
    "import numpy as np\n",
    "import pandas as pd\n",
    "import matplotlib.pyplot as plt\n",
    "import math\n",
    "import cmath\n",
    "plt.style.use('seaborn-v0_8-paper')"
   ]
  },
  {
   "cell_type": "code",
   "execution_count": 2,
   "id": "60c7b898",
   "metadata": {},
   "outputs": [
    {
     "data": {
      "text/plain": [
       "[<matplotlib.lines.Line2D at 0x7f838e662690>]"
      ]
     },
     "execution_count": 2,
     "metadata": {},
     "output_type": "execute_result"
    },
    {
     "data": {
      "image/png": "[encoded data removed]",
      "text/plain": [
       "<Figure size 640x440 with 1 Axes>"
      ]
     },
     "metadata": {},
     "output_type": "display_data"
    }
   ],
   "source": [
    "db = pd.read_csv('saida_motor.csv')\n",
    "\n",
    "#extracting velocity in rpm from db\n",
    "rpm = db['Data_4']\n",
    "\n",
    "#extracting Id and Iq from db\n",
    "i_d = db['Data_1']\n",
    "i_q = db['Data_2']\n",
    "\n",
    "#extracting estimated torque\n",
    "T_ref = db['Data_5']\n",
    "\n",
    "plt.plot(rpm,T_ref)"
   ]
  },
  {
   "cell_type": "code",
   "execution_count": 3,
   "id": "64c50d45",
   "metadata": {},
   "outputs": [],
   "source": [
    "#estimated torque equation\n",
    "def est_torque(Ld, Lq, yf, rpm, i_d, i_q):\n",
    "\n",
    "    #creating estimated torque equation\n",
    "    T = (3/4) * 12 * i_q * (Ld * i_d + yf - Lq * i_d)\n",
    "\n",
    "    #saving db on a csv file\n",
    "    path = 'torque_est.csv'\n",
    "    df = pd.DataFrame({\n",
    "        'rpm': rpm,\n",
    "        'T_est': T,\n",
    "    })\n",
    "    \n",
    "    df.to_csv(path, index=False)\n",
    "    \n",
    "    return path"
   ]
  },
  {
   "cell_type": "code",
   "execution_count": 4,
   "id": "d44fe5d7",
   "metadata": {},
   "outputs": [],
   "source": [
    "#root mean square error equation\n",
    "def RMSE(rpm, T_ref, est_db):\n",
    "\n",
    "    T_est = pd.read_csv(est_db)\n",
    "\n",
    "    est = T_est['T_est']\n",
    "\n",
    "    i = (T_ref - est)**2\n",
    "\n",
    "    n = len(rpm)\n",
    "\n",
    "    rmse = np.sqrt((1/n) * np.sum(i))\n",
    "\n",
    "    error = np.sqrt((T_ref - est)**2)\n",
    "    \n",
    "    return rmse"
   ]
  },
  {
   "cell_type": "code",
   "execution_count": 5,
   "id": "a8c69a2d",
   "metadata": {},
   "outputs": [
    {
     "name": "stdout",
     "output_type": "stream",
     "text": [
      "Status : ['Maximum number of iteration reached']\n",
      "Total Evaluations: 71\n",
      "Solution: f([0.00644788 0.00666948 0.17319   ]) = 0.53041\n"
     ]
    }
   ],
   "source": [
    "#starting optimazation\n",
    "from scipy.optimize import dual_annealing\n",
    "from numpy.random import rand\n",
    "import time \n",
    "\n",
    "#defining parameters inicial values\n",
    "Ld_init = 0.0066\n",
    "Lq_init = 0.0066\n",
    "yf_init = 0.11546\n",
    "\n",
    "seconds_inicio = time.time()\n",
    "\n",
    "#setting path\n",
    "t_est_path = 'torque_est.csv'\n",
    "\n",
    "def objective(params):\n",
    "    Ld, Lq, yf = params\n",
    "    T_est_path = est_torque(Ld, Lq, yf, rpm, i_d, i_q)\n",
    "    return RMSE(rpm, T_ref, t_est_path)\n",
    "\n",
    "# define range for input\n",
    "r_min, r_max = 0.5, 1.5\n",
    "# define the bounds on the search\n",
    "bounds = [[r_min*Ld_init, r_max*Ld_init], [r_min*Lq_init, r_max*Lq_init], [r_min*yf_init, r_max*yf_init]]\n",
    "# perform the dual annealing search\n",
    "result = dual_annealing(objective, bounds, no_local_search=False, seed=41, maxiter=1000)\n",
    "# summarize the result\n",
    "print('Status : %s' % result['message'])\n",
    "print('Total Evaluations: %d' % result['nfev'])\n",
    "\n",
    "# evaluate solution\n",
    "solution = result['x']\n",
    "evaluation = objective(solution)\n",
    "print('Solution: f(%s) = %.5f' % (solution, evaluation))\n",
    "seconds_final = time.time()\n",
    "tempo_total = (seconds_final - seconds_inicio)/3600"
   ]
  },
  {
   "cell_type": "code",
   "execution_count": 6,
   "id": "e7551a69",
   "metadata": {
    "scrolled": true
   },
   "outputs": [
    {
     "data": {
      "text/plain": [
       "0.023097741140259635"
      ]
     },
     "execution_count": 6,
     "metadata": {},
     "output_type": "execute_result"
    }
   ],
   "source": [
    "tempo_total"
   ]
  }
 ],
 "metadata": {
  "kernelspec": {
   "display_name": "Python 3 (ipykernel)",
   "language": "python",
   "name": "python3"
  },
  "language_info": {
   "codemirror_mode": {
    "name": "ipython",
    "version": 3
   },
   "file_extension": ".py",
   "mimetype": "text/x-python",
   "name": "python",
   "nbconvert_exporter": "python",
   "pygments_lexer": "ipython3",
   "version": "3.11.0rc1"
  }
 },
 "nbformat": 4,
 "nbformat_minor": 5
}
